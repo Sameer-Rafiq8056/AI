{
 "cells": [
  {
   "cell_type": "code",
   "execution_count": 1,
   "metadata": {},
   "outputs": [
    {
     "name": "stdout",
     "output_type": "stream",
     "text": [
      "Subject1: 45\n",
      "Subject2: 45\n",
      "Subject3: 78\n",
      "Subject3: 97\n",
      "Subject5: 86\n"
     ]
    },
    {
     "ename": "TypeError",
     "evalue": "unsupported operand type(s) for /: 'str' and 'int'",
     "output_type": "error",
     "traceback": [
      "\u001b[1;31m---------------------------------------------------------------------------\u001b[0m",
      "\u001b[1;31mTypeError\u001b[0m                                 Traceback (most recent call last)",
      "\u001b[1;32m<ipython-input-1-bc6a9ed2e3c8>\u001b[0m in \u001b[0;36m<module>\u001b[1;34m\u001b[0m\n\u001b[0;32m      5\u001b[0m \u001b[0msub5\u001b[0m\u001b[1;33m=\u001b[0m \u001b[0minput\u001b[0m\u001b[1;33m(\u001b[0m\u001b[1;34m\"Subject5: \"\u001b[0m\u001b[1;33m)\u001b[0m\u001b[1;33m\u001b[0m\u001b[1;33m\u001b[0m\u001b[0m\n\u001b[0;32m      6\u001b[0m \u001b[0msum\u001b[0m\u001b[1;33m=\u001b[0m\u001b[0msub1\u001b[0m\u001b[1;33m+\u001b[0m\u001b[0msub2\u001b[0m\u001b[1;33m+\u001b[0m\u001b[0msub3\u001b[0m\u001b[1;33m+\u001b[0m\u001b[0msub4\u001b[0m\u001b[1;33m+\u001b[0m\u001b[0msub5\u001b[0m\u001b[1;33m\u001b[0m\u001b[1;33m\u001b[0m\u001b[0m\n\u001b[1;32m----> 7\u001b[1;33m \u001b[0mper\u001b[0m\u001b[1;33m=\u001b[0m\u001b[1;33m(\u001b[0m\u001b[0msum\u001b[0m\u001b[1;33m/\u001b[0m\u001b[1;36m500\u001b[0m\u001b[1;33m)\u001b[0m\u001b[1;33m*\u001b[0m\u001b[1;36m100\u001b[0m\u001b[1;33m\u001b[0m\u001b[1;33m\u001b[0m\u001b[0m\n\u001b[0m\u001b[0;32m      8\u001b[0m \u001b[0mprint\u001b[0m\u001b[1;33m(\u001b[0m\u001b[0mper\u001b[0m\u001b[1;33m)\u001b[0m\u001b[1;33m\u001b[0m\u001b[1;33m\u001b[0m\u001b[0m\n\u001b[0;32m      9\u001b[0m \u001b[1;32mif\u001b[0m \u001b[1;33m(\u001b[0m\u001b[0mper\u001b[0m\u001b[1;33m>=\u001b[0m\u001b[1;36m60\u001b[0m \u001b[1;32mand\u001b[0m \u001b[0mper\u001b[0m\u001b[1;33m<=\u001b[0m\u001b[1;36m69\u001b[0m\u001b[1;33m)\u001b[0m\u001b[1;33m:\u001b[0m\u001b[1;33m\u001b[0m\u001b[1;33m\u001b[0m\u001b[0m\n",
      "\u001b[1;31mTypeError\u001b[0m: unsupported operand type(s) for /: 'str' and 'int'"
     ]
    }
   ],
   "source": [
    "sub1= input(\"Subject1: \")\n",
    "sub2= input(\"Subject2: \")\n",
    "sub3= input(\"Subject3: \")\n",
    "sub4= input(\"Subject3: \")\n",
    "sub5= input(\"Subject5: \")\n",
    "sum=sub1+sub2+sub3+sub4+sub5\n",
    "per=(sum/500)*100\n",
    "print(per)\n",
    "if (per>=60 and per<=69):\n",
    "    print(\"grade B\")\n",
    "elif(per>=70 and per<=79):\n",
    "    print(\"grade A\")\n",
    "elif (per>=80):\n",
    "    print(\"grade A1\")\n",
    "elif (per<=50):\n",
    "    print(\"Fail\")\n",
    "\n"
   ]
  },
  {
   "cell_type": "code",
   "execution_count": 6,
   "metadata": {},
   "outputs": [
    {
     "name": "stdout",
     "output_type": "stream",
     "text": [
      "Enter your city : KRACHI\n",
      "<built-in method lower of str object at 0x050CDA20>\n"
     ]
    }
   ],
   "source": [
    "city_to_check = input(\"Enter your city : \")\n",
    "city_to_check=city_to_check.lower\n",
    "print(city_to_check)"
   ]
  },
  {
   "cell_type": "code",
   "execution_count": null,
   "metadata": {},
   "outputs": [],
   "source": []
  },
  {
   "cell_type": "code",
   "execution_count": null,
   "metadata": {},
   "outputs": [],
   "source": []
  }
 ],
 "metadata": {
  "kernelspec": {
   "display_name": "Python 3",
   "language": "python",
   "name": "python3"
  }
 },
 "nbformat": 4,
 "nbformat_minor": 2
}
